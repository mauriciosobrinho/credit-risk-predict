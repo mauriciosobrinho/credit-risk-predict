{
 "cells": [
  {
   "cell_type": "code",
   "execution_count": null,
   "metadata": {},
   "outputs": [],
   "source": [
    "#Fazendo a leitura dos dados\n",
    "import random\n",
    "random.seed(42) # define the seed (important to reproduce the results)\n",
    "import pandas as pd\n",
    "import numpy as np\n",
    "import matplotlib.pyplot as plt\n",
    "\n",
    "data_set_path = 'C:\\\\Users\\\\mlsob\\\\Developer\\\\Notebooks\\\\credit-risk-predict\\\\dataset\\\\credit-risk-classification\\\\'\n",
    "\n",
    "train = pd.read_csv(data_set_path+'train.csv', header=(0))\n",
    "test = pd.read_csv(data_set_path+'test.csv', header=(0))\n",
    "\n",
    "print(\"Número de linhas e colunas no conjunto de treinamento:\", train.shape)\n",
    "print(\"Número de linhas e colunas no conjunto de teste:\", test.shape)\n",
    "attributes = list(train.columns)\n",
    "train.head(10)"
   ]
  },
  {
   "cell_type": "code",
   "execution_count": null,
   "metadata": {},
   "outputs": [],
   "source": [
    "#Exclusão de atributo não relevante \"Loan_ID\" nos conjuntos de treino e teste\n",
    "train.drop(['Loan_ID'],axis = 1, inplace = True)\n",
    "train.head(10)\n",
    "#print(train.shape)"
   ]
  },
  {
   "cell_type": "code",
   "execution_count": null,
   "metadata": {},
   "outputs": [],
   "source": [
    "Loan_ID_test = test['Loan_ID']\n",
    "test.drop(['Loan_ID'],axis = 1, inplace = True)\n",
    "test.head(10)"
   ]
  },
  {
   "cell_type": "code",
   "execution_count": null,
   "metadata": {},
   "outputs": [],
   "source": [
    "#Transformação de atributos categóricos em numéricos com One-ho-enconding para o conjunto de treino \n",
    "#train.head(10)\n",
    "#train = pd.get_dummies(train)\n",
    "#train.head(10)"
   ]
  },
  {
   "cell_type": "code",
   "execution_count": null,
   "metadata": {},
   "outputs": [],
   "source": [
    "#test = pd.get_dummies(test)\n",
    "#test.head(10)"
   ]
  },
  {
   "cell_type": "code",
   "execution_count": null,
   "metadata": {},
   "outputs": [],
   "source": [
    "#Identificação de valores nulos (not a number: nan), no conjunto de treino, com pandas\n",
    "train.isnull().sum().sort_values(ascending=False).head(10)\n",
    "\n"
   ]
  },
  {
   "cell_type": "code",
   "execution_count": null,
   "metadata": {},
   "outputs": [],
   "source": [
    "#Identificação de valores nulos (not a number: nan), no conjunto de teste, com pandas\n",
    "test.isnull().sum().sort_values(ascending=False).head(10)"
   ]
  },
  {
   "cell_type": "code",
   "execution_count": null,
   "metadata": {},
   "outputs": [],
   "source": [
    "#Substituição de valores faltantes em cada instância no conjuntos de treino e teste por valores válidos (moda, média etc)\n",
    "train['Credit_History'] = train['Credit_History'].fillna(train['Credit_History'].mode()[0])\n",
    "train['LoanAmount'] = train['LoanAmount'].fillna(train['LoanAmount'].mode()[0])\n",
    "train['Loan_Amount_Term'] = train['Loan_Amount_Term'].fillna(train['Loan_Amount_Term'].mode()[0])\n",
    "\n",
    "test['Credit_History'] = test['Credit_History'].fillna(test['Credit_History'].mode()[0])\n",
    "test['LoanAmount'] = test['LoanAmount'].fillna(test['LoanAmount'].mode()[0])\n",
    "test['Loan_Amount_Term'] = test['Loan_Amount_Term'].fillna(test['Loan_Amount_Term'].mode()[0])"
   ]
  },
  {
   "cell_type": "code",
   "execution_count": null,
   "metadata": {},
   "outputs": [],
   "source": [
    "train.isnull().sum().sort_values(ascending=False).head(10)"
   ]
  },
  {
   "cell_type": "code",
   "execution_count": null,
   "metadata": {},
   "outputs": [],
   "source": [
    "test.isnull().sum().sort_values(ascending=False).head(10)"
   ]
  },
  {
   "cell_type": "code",
   "execution_count": null,
   "metadata": {},
   "outputs": [],
   "source": [
    "#converção dos dados para o formato numpy para facilitar tarefas de classificação e regressão\n",
    "#Para o conjunto de treino\n",
    "data_train = train.to_numpy()\n",
    "print(data_train.shape)\n",
    "nrow,ncol = data_train.shape\n",
    "y = data_train[:,-1]\n",
    "X = data_train[:,0:ncol-1]\n",
    "print(y)\n",
    "print(X)"
   ]
  },
  {
   "cell_type": "code",
   "execution_count": null,
   "metadata": {},
   "outputs": [],
   "source": [
    "#Para o conjunto de teste\n",
    "#data_test = test.to_numpy()\n",
    "#X_test = data_test"
   ]
  },
  {
   "cell_type": "code",
   "execution_count": null,
   "metadata": {},
   "outputs": [],
   "source": [
    "#Normalizados, de modo a evitar o efeito da escala dos atributos nos métodos de aprendizado\n",
    "#from sklearn.preprocessing import StandardScaler\n",
    "#scaler = StandardScaler().fit(X)\n",
    "#X = scaler.transform(X)\n",
    "\n",
    "#X_test = scaler.transform(X_test)\n",
    "\n",
    "#print('Dados transformados:')\n",
    "#print('Media: ', np.mean(X, axis = 0))\n",
    "#print('Desvio Padrao:', np.std(X, axis = 0))"
   ]
  },
  {
   "cell_type": "code",
   "execution_count": null,
   "metadata": {},
   "outputs": [],
   "source": [
    "from sklearn.model_selection import train_test_split\n",
    "p = 0.2 # fracao de elementos no conjunto de teste\n",
    "x_train, x_test, y_train, y_test = train_test_split(X, y, test_size = p, random_state = 2)"
   ]
  },
  {
   "cell_type": "code",
   "execution_count": null,
   "metadata": {},
   "outputs": [],
   "source": [
    "from sklearn import tree\n",
    "# Cria o modelo usando o criterio Gini\n",
    "model = tree.DecisionTreeClassifier(criterion = 'gini', random_state = 101)\n",
    "# Ajusta o modelo usando os dados de treinamento\n",
    "model.fit(x_train,y_train)\n",
    "# realizar a predição\n",
    "y_pred = model.predict(x_test)"
   ]
  }
 ],
 "metadata": {
  "interpreter": {
   "hash": "d705b4c29d556a02c73ced8339a1fbd2a1f900cb6b4352953bd5a43f2bdfbd80"
  },
  "kernelspec": {
   "display_name": "Python 3.8.9 ('venv': venv)",
   "language": "python",
   "name": "python3"
  },
  "language_info": {
   "codemirror_mode": {
    "name": "ipython",
    "version": 3
   },
   "file_extension": ".py",
   "mimetype": "text/x-python",
   "name": "python",
   "nbconvert_exporter": "python",
   "pygments_lexer": "ipython3",
   "version": "3.8.9"
  },
  "orig_nbformat": 4
 },
 "nbformat": 4,
 "nbformat_minor": 2
}
